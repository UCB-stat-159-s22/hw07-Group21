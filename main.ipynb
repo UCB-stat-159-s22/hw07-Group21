{
 "cells": [
  {
   "cell_type": "markdown",
   "id": "2eec5441-1ed9-4958-926f-2cbdb9e83f9e",
   "metadata": {},
   "source": [
    "# Analysis of College Graduate Data \n",
    "\n"
   ]
  },
  {
   "cell_type": "code",
   "execution_count": 1,
   "id": "818bb7c6-814b-49a0-9571-6dfa8123c8a6",
   "metadata": {},
   "outputs": [],
   "source": [
    "import pandas as pd\n",
    "import numpy as np\n",
    "import seaborn as sns\n",
    "import matplotlib.pyplot as plt\n"
   ]
  },
  {
   "cell_type": "code",
   "execution_count": null,
   "id": "dc1cc7fa-d1f5-474f-aa15-a8a1d2948c6e",
   "metadata": {},
   "outputs": [],
   "source": []
  },
  {
   "cell_type": "code",
   "execution_count": null,
   "id": "2cfdaebb-38d9-4fbd-b8f9-aa81387c2d20",
   "metadata": {},
   "outputs": [],
   "source": []
  }
 ],
 "metadata": {
  "kernelspec": {
   "display_name": "IPython - hw7",
   "language": "python",
   "name": "hw7env"
  },
  "language_info": {
   "codemirror_mode": {
    "name": "ipython",
    "version": 3
   },
   "file_extension": ".py",
   "mimetype": "text/x-python",
   "name": "python",
   "nbconvert_exporter": "python",
   "pygments_lexer": "ipython3",
   "version": "3.9.12"
  }
 },
 "nbformat": 4,
 "nbformat_minor": 5
}
